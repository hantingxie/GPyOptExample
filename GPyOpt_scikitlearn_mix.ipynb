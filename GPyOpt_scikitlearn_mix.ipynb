{
 "cells": [
  {
   "cell_type": "markdown",
   "metadata": {},
   "source": [
    "# GPyOpt: configuring Scikit-learn methods for mixed typed parameters optimisation\n",
    "\n",
    "### Written by Hanting Xie, Amazon Game Studios.\n",
    "\n",
    "*Last updated Thursday, 21 September 2017.*"
   ]
  },
  {
   "cell_type": "markdown",
   "metadata": {},
   "source": [
    "The goal of this notebook is to use GPyOpt to tune the parameters of Machine Learning algorithms. In particular, we will shows how to tune the hyper-parameters for the [GradientBoostingClassifier](http://luthuli.cs.uiuc.edu/~daf/courses/optimization/papers/2699986.pdf) implemented in [Scikit-learn](http://scikit-learn.org/stable/). Given the standard interface of Scikit-learn, other models can be tuned in a similar fashion. "
   ]
  },
  {
   "cell_type": "markdown",
   "metadata": {},
   "source": [
    "We start loading the requires modules."
   ]
  },
  {
   "cell_type": "code",
   "execution_count": 1,
   "metadata": {},
   "outputs": [
    {
     "name": "stdout",
     "output_type": "stream",
     "text": [
      "Populating the interactive namespace from numpy and matplotlib\n"
     ]
    },
    {
     "name": "stderr",
     "output_type": "stream",
     "text": [
      "/Volumes/Unix/environments/gpyopt_env/lib/python3.6/site-packages/matplotlib/__init__.py:1405: UserWarning: \n",
      "This call to matplotlib.use() has no effect because the backend has already\n",
      "been chosen; matplotlib.use() must be called *before* pylab, matplotlib.pyplot,\n",
      "or matplotlib.backends is imported for the first time.\n",
      "\n",
      "  warnings.warn(_use_error_msg)\n"
     ]
    }
   ],
   "source": [
    "% pylab inline\n",
    "import GPyOpt\n",
    "import numpy as np\n",
    "from matplotlib.colors import ListedColormap\n",
    "from numpy.random import seed, shuffle\n",
    "from sklearn.datasets import load_iris\n",
    "from sklearn.ensemble import GradientBoostingClassifier\n",
    "from sklearn.metrics import classification_report\n",
    "from sklearn.model_selection import StratifiedKFold, cross_val_score\n",
    "from sklearn.preprocessing import LabelEncoder\n",
    "\n",
    "seed(12345)\n"
   ]
  },
  {
   "cell_type": "markdown",
   "metadata": {
    "collapsed": true
   },
   "source": [
    "In this example, we will use the [iris dataset](http://scikit-learn.org/stable/auto_examples/datasets/plot_iris_dataset.html) available in Scikit-learn. This dataset is a multi-class classification problem.\n",
    "\n",
    "We split the original dataset into the training data (first 130 data points) and testing data (last 20 data points). There are 3 features that can be used for training the classifier, however, to visualise the decision boundry, we are only going to use 2 of them in this example. The performance of the classifier is evaluated in terms of the *confusion matrix* on the testing data."
   ]
  },
  {
   "cell_type": "code",
   "execution_count": 2,
   "metadata": {},
   "outputs": [],
   "source": [
    "# Let's load the dataset\n",
    "x, y = load_iris(return_X_y=True)\n",
    "idx = np.arange(x.shape[0])\n",
    "shuffle(idx)\n",
    "x = x[idx]\n",
    "y = y[idx]\n",
    "split_index = 20\n",
    "train_x = x[:-split_index, [0, 2]]\n",
    "train_y = y[:-split_index]\n",
    "test_x = x[-split_index:, [0, 2]]\n",
    "test_y = y[-split_index:]\n"
   ]
  },
  {
   "cell_type": "markdown",
   "metadata": {},
   "source": [
    "Let's first see the results with the default random forest parameters. In this example, we plan to tune three parameters, they are:'learning_rate', 'max_depth', 'criterion'.\n",
    "Please refer to [the documentation](http://luthuli.cs.uiuc.edu/~daf/courses/optimization/papers/2699986.pdf) to figure out the meanings of them."
   ]
  },
  {
   "cell_type": "code",
   "execution_count": 3,
   "metadata": {},
   "outputs": [
    {
     "name": "stdout",
     "output_type": "stream",
     "text": [
      "The default parameters obtained: \n",
      " learning_rate: 0.1, max_depth: 3, criterion: friedman_mse\n"
     ]
    }
   ],
   "source": [
    "clf = GradientBoostingClassifier()\n",
    "clf.fit(train_x, train_y)\n",
    "print(\"The default parameters obtained: \\n \"\n",
    "      \"learning_rate: {}, max_depth: {}, criterion: {}\".format(\n",
    "    clf.learning_rate, clf.max_depth, clf.criterion))"
   ]
  },
  {
   "cell_type": "markdown",
   "metadata": {},
   "source": [
    "We will plot the decision boundry to visuliase how the classifier is deciding the result. \n",
    "To start with, let's define few functions to help us for the visualisation. (functions adapted from [Scikit learn example](http://scikit-learn.org/stable/auto_examples/svm/plot_iris.html)) "
   ]
  },
  {
   "cell_type": "code",
   "execution_count": 4,
   "metadata": {},
   "outputs": [],
   "source": [
    "def make_meshgrid(x, y, h=.02):\n",
    "    \"\"\"Create a mesh of points to plot in\n",
    "\n",
    "    Parameters\n",
    "    ----------\n",
    "    x: data to base x-axis meshgrid on\n",
    "    y: data to base y-axis meshgrid on\n",
    "    h: stepsize for meshgrid, optional\n",
    "\n",
    "    Returns\n",
    "    -------\n",
    "    xx, yy : ndarray\n",
    "    \"\"\"\n",
    "    x_min, x_max = x.min() - 1, x.max() + 1\n",
    "    y_min, y_max = y.min() - 1, y.max() + 1\n",
    "    xx, yy = np.meshgrid(np.arange(x_min, x_max, h),\n",
    "                         np.arange(y_min, y_max, h))\n",
    "    return xx, yy\n",
    "\n",
    "\n",
    "def plot_contours(ax, clf, xx, yy, **params):\n",
    "    \"\"\"Plot the decision boundaries for a classifier.\n",
    "\n",
    "    Parameters\n",
    "    ----------\n",
    "    ax: matplotlib axes object\n",
    "    clf: a classifier\n",
    "    xx: meshgrid ndarray\n",
    "    yy: meshgrid ndarray\n",
    "    params: dictionary of params to pass to contourf, optional\n",
    "    \"\"\"\n",
    "    Z = clf.predict(np.c_[xx.ravel(), yy.ravel()])\n",
    "    Z = Z.reshape(xx.shape)\n",
    "    out = ax.contourf(xx, yy, Z, **params)\n",
    "    return out"
   ]
  },
  {
   "cell_type": "markdown",
   "metadata": {},
   "source": [
    "Let's draw the decision boundrary for the GradientBoostClassifier with the default settings."
   ]
  },
  {
   "cell_type": "code",
   "execution_count": 5,
   "metadata": {},
   "outputs": [
    {
     "data": {
      "text/plain": [
       "<matplotlib.text.Text at 0x10a2bc0b8>"
      ]
     },
     "execution_count": 5,
     "metadata": {},
     "output_type": "execute_result"
    },
    {
     "data": {
      "image/png": "[encoded data removed]",
      "text/plain": [
       "<matplotlib.figure.Figure at 0x10a261668>"
      ]
     },
     "metadata": {},
     "output_type": "display_data"
    }
   ],
   "source": [
    "figure, sub = subplots(1, 1)\n",
    "ax = plt.gca()\n",
    "subplots_adjust(wspace=0.4, hspace=0.4)\n",
    "\n",
    "X0, X1 = train_x[:, 0], train_x[:, 1]\n",
    "xx, yy = make_meshgrid(X0, X1)\n",
    "\n",
    "plot_contours(ax, clf, xx, yy,\n",
    "              cmap=plt.cm.coolwarm, alpha=0.8)\n",
    "ax.scatter(X0, X1, c=train_y, cmap=plt.cm.coolwarm, s=20,\n",
    "           edgecolors='k')\n",
    "ax.scatter(test_x[:, 0], test_x[:, 1], c=test_y, marker='X',\n",
    "           cmap=plt.cm.coolwarm, s=50,\n",
    "           edgecolors='k')\n",
    "ax.set_xlim(xx.min(), xx.max())\n",
    "ax.set_ylim(yy.min(), yy.max())\n",
    "ax.set_xlabel('Sepal length')\n",
    "ax.set_ylabel('Sepal width')\n",
    "ax.set_xticks(())\n",
    "ax.set_yticks(())\n",
    "ax.set_title(\"Random Forest with default parameters\")\n"
   ]
  },
  {
   "cell_type": "markdown",
   "metadata": {},
   "source": [
    "Looks not bad, let's get the confusion matrix first to confirm our observations."
   ]
  },
  {
   "cell_type": "code",
   "execution_count": 6,
   "metadata": {},
   "outputs": [
    {
     "name": "stdout",
     "output_type": "stream",
     "text": [
      "The confusion matrix we get is: \n",
      "             precision    recall  f1-score   support\n",
      "\n",
      "          0       1.00      1.00      1.00         7\n",
      "          1       0.43      0.75      0.55         4\n",
      "          2       0.83      0.56      0.67         9\n",
      "\n",
      "avg / total       0.81      0.75      0.76        20\n",
      "\n"
     ]
    }
   ],
   "source": [
    "preds = clf.predict(test_x)\n",
    "print(\"The confusion matrix we get is: \\n{}\".format(\n",
    "    classification_report(test_y, preds)))"
   ]
  },
  {
   "cell_type": "markdown",
   "metadata": {},
   "source": [
    "# GPyOpt\n",
    "Now let's try to apply Bayesian Optimization for the same problem. We first need to define the search space. For demo purposes, we will use three different typed parameters and show how you can handle them."
   ]
  },
  {
   "cell_type": "code",
   "execution_count": 7,
   "metadata": {},
   "outputs": [],
   "source": [
    "# Because that the categorical type of GPyOpt only support numerical input,\n",
    "# at the moment, we need to encode string types categories into numeric values.\n",
    "label_encoder_dict = dict()  # For recovery all encoded strings later on\n",
    "criterion_choices = ('friedman_mse', 'mse', 'mae')\n",
    "criterion_encoder = LabelEncoder().fit(criterion_choices)\n",
    "\n",
    "label_encoder_dict['criterion'] = criterion_encoder\n",
    "\n",
    "domain = [\n",
    "    # this is a continuous typed parameter, you can simply give the range\n",
    "    {'name': \"learning_rate\", 'type': 'continuous', \n",
    "     'domain': (1e-2, 2e-1)},\n",
    "    # this is a discrete typed parameter, you should give all the options\n",
    "    {'name': 'max_depth', 'type': 'discrete',\n",
    "     'domain': (2,3,4,5)},\n",
    "    # this is a categorical typed parameter, similar to discrete type,\n",
    "    # you should give all the options. \n",
    "    # Please note if your options are string typed,\n",
    "    # you need to encod ethem before passing in.\n",
    "    {'name': 'criterion', 'type': 'categorical',\n",
    "     'domain': tuple(criterion_encoder.transform(criterion_choices))}]\n"
   ]
  },
  {
   "cell_type": "markdown",
   "metadata": {},
   "source": [
    "GPyOpt gives back suggestions in a list typed format. We can convert them back to dict type for easier assiginment to scikit-learn models."
   ]
  },
  {
   "cell_type": "code",
   "execution_count": 8,
   "metadata": {},
   "outputs": [],
   "source": [
    "def recover_parameter(input_parameters):\n",
    "    \"\"\"\n",
    "    Note that this function can be used in most cases for the following \n",
    "    three purposes:\n",
    "    1. It will convert the parameter list to a dict for easier \n",
    "    connection to scikit-learn\n",
    "    2. It will converting encoded categorical type back to strings \n",
    "    given the encode dict we defined before\n",
    "    3. It will try to convert float types numbers back to int as GPyOpt current\n",
    "    covert all int to floats for optimisation.\n",
    "    \n",
    "    :param input_parameters: The parameters suggested by GPyOpt\n",
    "    :return: The converted parameter dictionary\n",
    "    \"\"\"\n",
    "    parameter_names = [parameter[\"name\"] for parameter in domain]\n",
    "    parsed_param_dict = dict()\n",
    "    if input_parameters.ndim > 1:\n",
    "        input_parameters = input_parameters[0]\n",
    "    for i, parameter_name in enumerate(parameter_names):\n",
    "        if parameter_name in label_encoder_dict:\n",
    "            parsed_param_dict[parameter_name] = label_encoder_dict[\n",
    "                parameter_name].inverse_transform(int(input_parameters[i]))\n",
    "        else:\n",
    "            if input_parameters[i].is_integer():\n",
    "                parsed_param_dict[parameter_name] = int(input_parameters[i])\n",
    "            else:\n",
    "                parsed_param_dict[parameter_name] = input_parameters[i]\n",
    "    return parsed_param_dict\n"
   ]
  },
  {
   "cell_type": "markdown",
   "metadata": {},
   "source": [
    "Now, we just need to defined an objective function to give reward/loss to the GPyOpt optimiser."
   ]
  },
  {
   "cell_type": "code",
   "execution_count": 9,
   "metadata": {},
   "outputs": [],
   "source": [
    "def objective(params):\n",
    "    # A general objective function for scikit-learn classifiers or regressors\n",
    "    params = recover_parameter(params)  # Recover parameters\n",
    "    classifier = GradientBoostingClassifier()  # Create a new instance for tune\n",
    "    classifier.set_params(**params)  # Assign parameters\n",
    "    # We use cross validation to get the current score from the parameter\n",
    "    cv_producer = StratifiedKFold(\n",
    "        n_splits=3, shuffle=True)\n",
    "    cv_score = - cross_val_score(classifier, train_x, train_y,\n",
    "                                 scoring='neg_log_loss',\n",
    "                                 cv=cv_producer, n_jobs=-1).mean()\n",
    "    return cv_score\n"
   ]
  },
  {
   "cell_type": "markdown",
   "metadata": {},
   "source": [
    "We, then, create the GPyOpt object and run the optimization procedure. It might take a while."
   ]
  },
  {
   "cell_type": "code",
   "execution_count": 10,
   "metadata": {},
   "outputs": [],
   "source": [
    "b_opt = GPyOpt.methods.BayesianOptimization(f=objective,\n",
    "                                            # function to optimize\n",
    "                                            domain=domain,\n",
    "                                            initial_design_numdata=10,\n",
    "                                            # Exploration exploitation\n",
    "                                            exact_feval=True)"
   ]
  },
  {
   "cell_type": "code",
   "execution_count": 11,
   "metadata": {
    "scrolled": true
   },
   "outputs": [
    {
     "data": {
      "image/png": "[encoded data removed]",
      "text/plain": [
       "<matplotlib.figure.Figure at 0x10aff0b70>"
      ]
     },
     "metadata": {},
     "output_type": "display_data"
    }
   ],
   "source": [
    "# it may take a few minutes\n",
    "b_opt.run_optimization(max_iter=40)\n",
    "b_opt.plot_convergence()"
   ]
  },
  {
   "cell_type": "markdown",
   "metadata": {},
   "source": [
    "Let's show the best parameters found. They differ significantly from the default parameters."
   ]
  },
  {
   "cell_type": "code",
   "execution_count": 12,
   "metadata": {},
   "outputs": [
    {
     "name": "stdout",
     "output_type": "stream",
     "text": [
      "best parameters are {'learning_rate': 0.027860111441686413, 'max_depth': 2, 'criterion': 'mse'}\n"
     ]
    },
    {
     "data": {
      "text/plain": [
       "GradientBoostingClassifier(criterion='mse', init=None,\n",
       "              learning_rate=0.027860111441686413, loss='deviance',\n",
       "              max_depth=2, max_features=None, max_leaf_nodes=None,\n",
       "              min_impurity_decrease=0.0, min_impurity_split=None,\n",
       "              min_samples_leaf=1, min_samples_split=2,\n",
       "              min_weight_fraction_leaf=0.0, n_estimators=100,\n",
       "              presort='auto', random_state=None, subsample=1.0, verbose=0,\n",
       "              warm_start=False)"
      ]
     },
     "execution_count": 12,
     "metadata": {},
     "output_type": "execute_result"
    }
   ],
   "source": [
    "# get the best parameters\n",
    "best_params = b_opt.X[np.argmin(b_opt.Y)]\n",
    "best_params = recover_parameter(best_params)\n",
    "print(\"best parameters are {}\".format(best_params))\n",
    "clf = GradientBoostingClassifier()\n",
    "clf.set_params(**best_params)\n",
    "clf.fit(train_x, train_y)"
   ]
  },
  {
   "cell_type": "markdown",
   "metadata": {},
   "source": [
    "Let's now draw the decision boundry for the optimised classifier."
   ]
  },
  {
   "cell_type": "code",
   "execution_count": 13,
   "metadata": {},
   "outputs": [
    {
     "data": {
      "text/plain": [
       "<matplotlib.text.Text at 0x10a8af2e8>"
      ]
     },
     "execution_count": 13,
     "metadata": {},
     "output_type": "execute_result"
    },
    {
     "data": {
      "image/png": "[encoded data removed]",
      "text/plain": [
       "<matplotlib.figure.Figure at 0x10a239cc0>"
      ]
     },
     "metadata": {},
     "output_type": "display_data"
    }
   ],
   "source": [
    "# Set-up 2x2 grid for plotting.\n",
    "figure, sub = plt.subplots(1, 1)\n",
    "ax = plt.gca()\n",
    "plt.subplots_adjust(wspace=0.4, hspace=0.4)\n",
    "\n",
    "X0, X1 = train_x[:, 0], train_x[:, 1]\n",
    "xx, yy = make_meshgrid(X0, X1)\n",
    "\n",
    "plot_contours(ax, clf, xx, yy,\n",
    "              cmap=plt.cm.coolwarm, alpha=0.8)\n",
    "ax.scatter(X0, X1, c=train_y, cmap=plt.cm.coolwarm, s=20,\n",
    "           edgecolors='k')\n",
    "ax.scatter(test_x[:, 0], test_x[:, 1], c=test_y, marker='X', cmap=plt.cm.coolwarm, s=50,\n",
    "           edgecolors='k')\n",
    "\n",
    "ax.set_xlim(xx.min(), xx.max())\n",
    "ax.set_ylim(yy.min(), yy.max())\n",
    "ax.set_xlabel('Sepal length')\n",
    "ax.set_ylabel('Sepal width')\n",
    "ax.set_xticks(())\n",
    "ax.set_yticks(())\n",
    "ax.set_title(\"Random Forest with optimised parameters\")\n"
   ]
  },
  {
   "cell_type": "markdown",
   "metadata": {},
   "source": [
    "The result looks very good now! Let's check its confusion matrix."
   ]
  },
  {
   "cell_type": "code",
   "execution_count": 14,
   "metadata": {},
   "outputs": [
    {
     "name": "stdout",
     "output_type": "stream",
     "text": [
      "The confusion matrix we get is: \n",
      "             precision    recall  f1-score   support\n",
      "\n",
      "          0       1.00      1.00      1.00         7\n",
      "          1       0.75      0.75      0.75         4\n",
      "          2       0.89      0.89      0.89         9\n",
      "\n",
      "avg / total       0.90      0.90      0.90        20\n",
      "\n"
     ]
    }
   ],
   "source": [
    "preds = clf.predict(test_x)\n",
    "print(\"The confusion matrix we get is: \\n{}\".format(\n",
    "    classification_report(test_y, preds)))\n"
   ]
  },
  {
   "cell_type": "markdown",
   "metadata": {},
   "source": [
    "Comparing to the default classifier, all three measurements have been significantly improved!"
   ]
  }
 ],
 "metadata": {
  "anaconda-cloud": {},
  "kernelspec": {
   "display_name": "Python 3",
   "language": "python",
   "name": "python3"
  },
  "language_info": {
   "codemirror_mode": {
    "name": "ipython",
    "version": 3
   },
   "file_extension": ".py",
   "mimetype": "text/x-python",
   "name": "python",
   "nbconvert_exporter": "python",
   "pygments_lexer": "ipython3",
   "version": "3.6.2"
  }
 },
 "nbformat": 4,
 "nbformat_minor": 1
}
